{
 "cells": [
  {
   "cell_type": "markdown",
   "id": "34787c3e",
   "metadata": {},
   "source": [
    "# Basics of Python Programming"
   ]
  },
  {
   "cell_type": "markdown",
   "id": "15b36076",
   "metadata": {},
   "source": [
    "### What is Python?\n",
    "\n",
    "Python is a high-level object-oriented programming language that was created by Guido van Rossum. It is also called general-purpose programming language as it is used in almost every domain we can think of as mentioned below:\n",
    "\n",
    "- Web Development\n",
    "- Software Development\n",
    "- Game Development\n",
    "- AI & ML\n",
    "- Data Analytics\n",
    "\n",
    "### What can Python do?\n",
    "- Python can be used to handle big data and perform complex mathematics.\n",
    "- Python can be used on a server to create web applications.\n",
    "- Python can be used alongside software to create workflows.\n",
    "- Python can connect to database systems. It can also read and modify files.\n",
    "\n",
    "### Why Python?\n",
    "- Python works on different platforms (Windows, Mac, Linux, Raspberry Pi, etc).\n",
    "- Python has a simple syntax similar to the English language.\n",
    "- Python has syntax that allows developers to write programs with fewer lines than some other programming languages.\n",
    "- Python runs on an interpreter system, meaning that code can be executed as soon as it is written. This means that prototyping can be very quick.\n",
    "- Python can be treated in a procedural way, an object-oriented way or a functional way.\n"
   ]
  },
  {
   "cell_type": "markdown",
   "id": "134dbf9d",
   "metadata": {},
   "source": [
    "## Python Basics"
   ]
  },
  {
   "cell_type": "markdown",
   "id": "af00cf79",
   "metadata": {},
   "source": [
    "## Section 1.1: String"
   ]
  },
  {
   "cell_type": "code",
   "execution_count": null,
   "id": "ea5fbf7e",
   "metadata": {},
   "outputs": [
    {
     "name": "stdout",
     "output_type": "stream",
     "text": [
      "Hello World\n",
      "I am Muhammad Ammar Mohsin\n",
      "I am learning python with codenics\n",
      "What's up\n"
     ]
    }
   ],
   "source": [
    "print(\"Hello World\")\n",
    "print('I am Muhammad Ammar Mohsin')\n",
    "print('''I am learning python with codenics''')\n",
    "print(\"What's up\")"
   ]
  },
  {
   "cell_type": "markdown",
   "id": "17031741",
   "metadata": {},
   "source": [
    "## Section 1.2: Operators\n",
    "> Use PEMDAS as equation solving sequence"
   ]
  },
  {
   "cell_type": "markdown",
   "id": "a653721e",
   "metadata": {},
   "source": [
    "### 1.2.1: Arithmetic Operators"
   ]
  },
  {
   "cell_type": "code",
   "execution_count": null,
   "id": "f7bd1073",
   "metadata": {},
   "outputs": [
    {
     "name": "stdout",
     "output_type": "stream",
     "text": [
      "46\n",
      "14\n",
      "100\n",
      "7.5\n",
      "1\n",
      "7\n",
      "225\n"
     ]
    }
   ],
   "source": [
    "print(21+25) # for addition\n",
    "print(25-11) # for subtarction\n",
    "print(20*5) # for multiplication\n",
    "print(15/2) # for division\n",
    "print(15%2)  # Modulus operator (modulo operation returns the remainder or signed remainder of a division,) \n",
    "print(15//2)  # Integer division (divides two numbers and returns the integer part of the result.)\n",
    "print(15**2)  # Power Operator"
   ]
  },
  {
   "cell_type": "code",
   "execution_count": null,
   "id": "0dfd3e02",
   "metadata": {},
   "outputs": [
    {
     "data": {
      "text/plain": [
       "20"
      ]
     },
     "metadata": {},
     "output_type": "display_data"
    }
   ],
   "source": [
    "x = 10 \n",
    "x = x+10\n",
    "x"
   ]
  },
  {
   "cell_type": "markdown",
   "id": "551e628d",
   "metadata": {},
   "source": [
    "### 1.2.2: Assignment Operators"
   ]
  },
  {
   "cell_type": "code",
   "execution_count": null,
   "id": "7d7929db",
   "metadata": {},
   "outputs": [
    {
     "name": "stdout",
     "output_type": "stream",
     "text": [
      "15\n"
     ]
    }
   ],
   "source": [
    "x = 5\n",
    "x +=10\n",
    "print(x)"
   ]
  },
  {
   "cell_type": "code",
   "execution_count": null,
   "id": "d2c90bc6",
   "metadata": {},
   "outputs": [
    {
     "data": {
      "text/plain": [
       "5"
      ]
     },
     "metadata": {},
     "output_type": "display_data"
    }
   ],
   "source": [
    "x -=10\n",
    "x"
   ]
  },
  {
   "cell_type": "markdown",
   "id": "2d67d424",
   "metadata": {},
   "source": [
    "## Section 1.3: Comments\n",
    "- Use \"#\" to add comment in python for better interpetation of your work"
   ]
  },
  {
   "cell_type": "code",
   "execution_count": null,
   "id": "52f1a59d",
   "metadata": {},
   "outputs": [
    {
     "name": "stdout",
     "output_type": "stream",
     "text": [
      "I'm fine\n",
      "15\n"
     ]
    }
   ],
   "source": [
    "# print(\"How are you\") \n",
    "print(\"I'm fine\") #It's a string \n",
    "print(10+5) #print operators function with number"
   ]
  },
  {
   "cell_type": "markdown",
   "id": "e49b0e64",
   "metadata": {},
   "source": [
    "## Section 1.4: Variables"
   ]
  },
  {
   "cell_type": "code",
   "execution_count": null,
   "id": "5ae06a34",
   "metadata": {},
   "outputs": [
    {
     "name": "stdout",
     "output_type": "stream",
     "text": [
      "10\n",
      "We are learning variables on python with Dr. Ammar Tufail\n"
     ]
    }
   ],
   "source": [
    "x = 10\n",
    "y = \"We are learning variables on python with Dr. Ammar Tufail\"\n",
    "print(x)\n",
    "print(y)"
   ]
  },
  {
   "cell_type": "code",
   "execution_count": null,
   "id": "238f7a22",
   "metadata": {},
   "outputs": [
    {
     "name": "stdout",
     "output_type": "stream",
     "text": [
      "15\n"
     ]
    }
   ],
   "source": [
    "x = x+5\n",
    "print(x)"
   ]
  },
  {
   "cell_type": "markdown",
   "id": "688721ac",
   "metadata": {},
   "source": [
    "### 1.4.1: Type/Class of Variable"
   ]
  },
  {
   "cell_type": "code",
   "execution_count": null,
   "id": "c03a5af0",
   "metadata": {},
   "outputs": [
    {
     "data": {
      "text/plain": [
       "int"
      ]
     },
     "metadata": {},
     "output_type": "display_data"
    }
   ],
   "source": [
    "x = 10\n",
    "type(x)"
   ]
  },
  {
   "cell_type": "code",
   "execution_count": null,
   "id": "dbaf8282",
   "metadata": {},
   "outputs": [
    {
     "data": {
      "text/plain": [
       "str"
      ]
     },
     "metadata": {},
     "output_type": "display_data"
    }
   ],
   "source": [
    "y = \"We are learning variables on python with Dr. Ammar Tufail\"\n",
    "type(y)"
   ]
  },
  {
   "cell_type": "code",
   "execution_count": null,
   "id": "7c15be84",
   "metadata": {},
   "outputs": [
    {
     "name": "stdout",
     "output_type": "stream",
     "text": [
      "Mangoes, Orange, Apple\n",
      "<class 'str'>\n"
     ]
    }
   ],
   "source": [
    "fruit_basket = \"Mangoes, Orange, Apple\"\n",
    "print(fruit_basket)\n",
    "print(type(fruit_basket))"
   ]
  },
  {
   "cell_type": "markdown",
   "id": "33eee853",
   "metadata": {},
   "source": [
    "## Section 1.5: Input Variables"
   ]
  },
  {
   "cell_type": "code",
   "execution_count": null,
   "id": "3c5b6889",
   "metadata": {},
   "outputs": [
    {
     "name": "stdout",
     "output_type": "stream",
     "text": [
      "What is your name? Muhammad Ammar\n",
      "Hello! Muhammad Ammar\n"
     ]
    }
   ],
   "source": [
    "name = input(\"What is your name? \")\n",
    "greetings = \"Hello!\"\n",
    "print(greetings, name)"
   ]
  },
  {
   "cell_type": "code",
   "execution_count": null,
   "id": "18ed7a23",
   "metadata": {},
   "outputs": [
    {
     "name": "stdout",
     "output_type": "stream",
     "text": [
      "What is your name? Muhammad Ammar Mohsin\n",
      "Hello! Muhammad Ammar Mohsin\n"
     ]
    }
   ],
   "source": [
    "name = input(\"What is your name? \")\n",
    "print(\"Hello!\", name)"
   ]
  },
  {
   "cell_type": "code",
   "execution_count": null,
   "id": "58352d2f",
   "metadata": {},
   "outputs": [
    {
     "name": "stdout",
     "output_type": "stream",
     "text": [
      "What is your name? Muhammad Ammar\n",
      "How old are you? 27\n",
      "Hello! Muhammad Ammar , You are still young.\n"
     ]
    }
   ],
   "source": [
    "name = input(\"What is your name? \")\n",
    "age = input(\"How old are you? \")\n",
    "greetings = \"Hello!\"\n",
    "print(greetings, name, \", You are still young.\")"
   ]
  },
  {
   "cell_type": "markdown",
   "id": "db1b8dae",
   "metadata": {},
   "source": [
    "## Section 1.6: Logical Operators\n",
    "*Logical operators are either \"true or false\" or \"yes or no\" or \"0 or 1\"*\n",
    "- equal to                        ==\n",
    "- not euqal to                    !=\n",
    "- less than                       <\n",
    "- greater than                    >\n",
    "- less than and equal to          <=\n",
    "- greater than and equal to       >="
   ]
  },
  {
   "cell_type": "code",
   "execution_count": null,
   "id": "e3585d9d",
   "metadata": {},
   "outputs": [
    {
     "name": "stdout",
     "output_type": "stream",
     "text": [
      "True\n",
      "False\n",
      "True\n",
      "False\n",
      "True\n",
      "True\n"
     ]
    }
   ],
   "source": [
    "print(4==4)\n",
    "print(4!=4)\n",
    "print(5>4)\n",
    "print(5<4)\n",
    "print(3<=5)\n",
    "print(5>=4)"
   ]
  },
  {
   "cell_type": "markdown",
   "id": "df8c6978",
   "metadata": {},
   "source": [
    "### 1.6.1: Input function and logical operator"
   ]
  },
  {
   "cell_type": "code",
   "execution_count": null,
   "id": "83de0e6c",
   "metadata": {},
   "outputs": [
    {
     "name": "stdout",
     "output_type": "stream",
     "text": [
      "How old is ahmad? 4\n",
      "False\n"
     ]
    }
   ],
   "source": [
    "age_at_school = 5\n",
    "ahmad_age = input(\"How old is ahmad? \")\n",
    "ahmad_age = int(ahmad_age)\n",
    "print(ahmad_age == age_at_school)"
   ]
  },
  {
   "cell_type": "code",
   "execution_count": null,
   "id": "73583209",
   "metadata": {},
   "outputs": [
    {
     "name": "stdout",
     "output_type": "stream",
     "text": [
      "How old is ahmad? 5\n",
      "True\n"
     ]
    }
   ],
   "source": [
    "age_at_school = 5\n",
    "ahmad_age = input(\"How old is ahmad? \")\n",
    "ahmad_age = int(ahmad_age)\n",
    "print(ahmad_age == age_at_school)"
   ]
  },
  {
   "cell_type": "markdown",
   "id": "a8c9ddaf",
   "metadata": {},
   "source": [
    "## Section 1.7: Type Conversion"
   ]
  },
  {
   "cell_type": "code",
   "execution_count": null,
   "id": "68ae198e",
   "metadata": {},
   "outputs": [
    {
     "name": "stdout",
     "output_type": "stream",
     "text": [
      "12.12 Type of x is:  <class 'float'>\n"
     ]
    }
   ],
   "source": [
    "x = 2\n",
    "y = 10.12\n",
    "x = x+y\n",
    "print(x, \"Type of x is: \", type(x))"
   ]
  },
  {
   "cell_type": "code",
   "execution_count": null,
   "id": "d1631304",
   "metadata": {},
   "outputs": [
    {
     "name": "stdout",
     "output_type": "stream",
     "text": [
      "What is your age? 27\n",
      "27 <class 'float'>\n"
     ]
    }
   ],
   "source": [
    "age = input(\"What is your age? \")\n",
    "print(age, type(float(age)))"
   ]
  },
  {
   "cell_type": "code",
   "execution_count": null,
   "id": "e47e3f10",
   "metadata": {},
   "outputs": [
    {
     "name": "stdout",
     "output_type": "stream",
     "text": [
      "What is your height? 205\n"
     ]
    },
    {
     "data": {
      "text/plain": [
       "str"
      ]
     },
     "metadata": {},
     "output_type": "display_data"
    }
   ],
   "source": [
    "x = input(\"What is your height? \") #User input will be taken as string by python\n",
    "x\n",
    "type(x)"
   ]
  },
  {
   "cell_type": "code",
   "execution_count": null,
   "id": "66c40cc7",
   "metadata": {},
   "outputs": [
    {
     "name": "stdout",
     "output_type": "stream",
     "text": [
      "What is your height? 205\n"
     ]
    },
    {
     "data": {
      "text/plain": [
       "float"
      ]
     },
     "metadata": {},
     "output_type": "display_data"
    }
   ],
   "source": [
    "x = input(\"What is your height? \") #User input will be taken as string by python\n",
    "x = float(x)    # Converting the input taken from the user to a float number.\n",
    "x\n",
    "type(x)"
   ]
  },
  {
   "cell_type": "markdown",
   "id": "4190210a",
   "metadata": {},
   "source": [
    "## Section 1.8: IF, ELSE & ELIF"
   ]
  },
  {
   "cell_type": "code",
   "execution_count": null,
   "id": "4a2965b7",
   "metadata": {},
   "outputs": [
    {
     "name": "stdout",
     "output_type": "stream",
     "text": [
      "What is temperature outside today? 32\n",
      "It's hot outside\n",
      "Drink plenty of water\n"
     ]
    }
   ],
   "source": [
    "temperature_outside = input(\"What is temperature outside today? \")\n",
    "temperature_outside = int(temperature_outside)\n",
    "if temperature_outside >= 30:\n",
    "    print(\"It's hot outside\")\n",
    "    print(\"Drink plenty of water\")\n",
    "elif temperature_outside >= 20:\n",
    "    print(\"It's a pleasant day\")\n",
    "    print(\"Enjoy your day\")\n",
    "elif temperature_outside >=10:\n",
    "    print(\"It's a bit cold outside\")\n",
    "    print(\"Have a cup of coffee and enjoy your day\")\n",
    "else:\n",
    "    print(\"It's freezing outside\")\n",
    "    print(\"Please wear warm colthes\")"
   ]
  },
  {
   "cell_type": "code",
   "execution_count": null,
   "id": "6948e757",
   "metadata": {},
   "outputs": [
    {
     "name": "stdout",
     "output_type": "stream",
     "text": [
      "What is temperature outside today? 25\n",
      "It's a pleasant day\n",
      "Enjoy your day\n"
     ]
    }
   ],
   "source": [
    "temperature_outside = input(\"What is temperature outside today? \")\n",
    "temperature_outside = int(temperature_outside)\n",
    "if temperature_outside >= 30:\n",
    "    print(\"It's hot outside\")\n",
    "    print(\"Drink plenty of water\")\n",
    "elif temperature_outside >= 20:\n",
    "    print(\"It's a pleasant day\")\n",
    "    print(\"Enjoy your day\")\n",
    "elif temperature_outside >=10:\n",
    "    print(\"It's a bit cold outside\")\n",
    "    print(\"Have a cup of coffee and enjoy your day\")\n",
    "else:\n",
    "    print(\"It's freezing outside\")\n",
    "    print(\"Please wear warm colthes\")"
   ]
  },
  {
   "cell_type": "code",
   "execution_count": null,
   "id": "b26853d7",
   "metadata": {},
   "outputs": [
    {
     "name": "stdout",
     "output_type": "stream",
     "text": [
      "What is temperature outside today? 18\n",
      "It's a bit cold outside\n",
      "Have a cup of coffee and enjoy your day\n"
     ]
    }
   ],
   "source": [
    "temperature_outside = input(\"What is temperature outside today? \")\n",
    "temperature_outside = int(temperature_outside)\n",
    "if temperature_outside >= 30:\n",
    "    print(\"It's hot outside\")\n",
    "    print(\"Drink plenty of water\")\n",
    "elif temperature_outside >= 20:\n",
    "    print(\"It's a pleasant day\")\n",
    "    print(\"Enjoy your day\")\n",
    "elif temperature_outside >=10:\n",
    "    print(\"It's a bit cold outside\")\n",
    "    print(\"Have a cup of coffee and enjoy your day\")\n",
    "else:\n",
    "    print(\"It's freezing outside\")\n",
    "    print(\"Please wear warm colthes\")"
   ]
  },
  {
   "cell_type": "code",
   "execution_count": null,
   "id": "f2af1813",
   "metadata": {},
   "outputs": [
    {
     "name": "stdout",
     "output_type": "stream",
     "text": [
      "What is temperature outside today? 4\n",
      "It's freezing outside\n",
      "Please wear warm colthes\n"
     ]
    }
   ],
   "source": [
    "temperature_outside = input(\"What is temperature outside today? \")\n",
    "temperature_outside = int(temperature_outside)\n",
    "if temperature_outside >= 30:\n",
    "    print(\"It's hot outside\")\n",
    "    print(\"Drink plenty of water\")\n",
    "elif temperature_outside >= 20:\n",
    "    print(\"It's a pleasant day\")\n",
    "    print(\"Enjoy your day\")\n",
    "elif temperature_outside >=10:\n",
    "    print(\"It's a bit cold outside\")\n",
    "    print(\"Have a cup of coffee and enjoy your day\")\n",
    "else:\n",
    "    print(\"It's freezing outside\")\n",
    "    print(\"Please wear warm colthes\")"
   ]
  },
  {
   "cell_type": "markdown",
   "id": "f461ff45",
   "metadata": {},
   "source": [
    "## Section 1.9: Functions\n",
    "- Defining a function"
   ]
  },
  {
   "cell_type": "code",
   "execution_count": null,
   "id": "76ed6b0c",
   "metadata": {},
   "outputs": [
    {
     "name": "stdout",
     "output_type": "stream",
     "text": [
      "We are learning Python with Dr. Aammar Tufail\n",
      "We are learning Python with Dr. Aammar Tufail\n",
      "We are learning Python with Dr. Aammar Tufail\n"
     ]
    }
   ],
   "source": [
    "# 1\n",
    "def print_func():\n",
    "    print(\"We are learning Python with Dr. Aammar Tufail\")\n",
    "    print(\"We are learning Python with Dr. Aammar Tufail\")\n",
    "    print(\"We are learning Python with Dr. Aammar Tufail\")\n",
    "print_func()"
   ]
  },
  {
   "cell_type": "code",
   "execution_count": null,
   "id": "6361de59",
   "metadata": {},
   "outputs": [
    {
     "name": "stdout",
     "output_type": "stream",
     "text": [
      "We are learning Python with Dr. Aammar Tufail\n",
      "We are learning Python with Dr. Aammar Tufail\n",
      "We are learning Python with Dr. Aammar Tufail\n"
     ]
    }
   ],
   "source": [
    "# 2\n",
    "def print_func():\n",
    "    text = \"We are learning Python with Dr. Aammar Tufail\"\n",
    "    print(text)\n",
    "    print(text)\n",
    "    print(text)\n",
    "print_func()"
   ]
  },
  {
   "cell_type": "code",
   "execution_count": null,
   "id": "73c49572",
   "metadata": {},
   "outputs": [
    {
     "name": "stdout",
     "output_type": "stream",
     "text": [
      "We are learning Python with Dr. Aammar Tufail\n",
      "We are learning Python with Dr. Aammar Tufail\n",
      "We are learning Python with Dr. Aammar Tufail\n"
     ]
    }
   ],
   "source": [
    "def print_func(text):\n",
    "    print(text)\n",
    "    print(text)\n",
    "    print(text)\n",
    "print_func(\"We are learning Python with Dr. Aammar Tufail\")"
   ]
  },
  {
   "cell_type": "markdown",
   "id": "9cc3073a",
   "metadata": {},
   "source": [
    "### 1.9.1: Defining a function with if, elif & else statement"
   ]
  },
  {
   "cell_type": "code",
   "execution_count": null,
   "id": "a6cee2c9",
   "metadata": {},
   "outputs": [
    {
     "name": "stdout",
     "output_type": "stream",
     "text": [
      "Ahmad should join the school immediately\n"
     ]
    }
   ],
   "source": [
    "def school_age_calculator(age, text):\n",
    "    if age==5:\n",
    "        print(text, \"can join the school\")\n",
    "    elif age>5:\n",
    "        print(text, \"should join the school immediately\")\n",
    "    else:\n",
    "        print(text, \"is still a baby\")\n",
    "\n",
    "school_age_calculator(6, \"Ahmad\")"
   ]
  },
  {
   "cell_type": "code",
   "execution_count": null,
   "id": "4141b556",
   "metadata": {},
   "outputs": [
    {
     "name": "stdout",
     "output_type": "stream",
     "text": [
      "Ahmad is still a baby\n"
     ]
    }
   ],
   "source": [
    "def school_age_calculator(age, text):\n",
    "    if age==5:\n",
    "        print(text, \"can join the school\")\n",
    "    elif age>5:\n",
    "        print(text, \"should join the school immediately\")\n",
    "    else:\n",
    "        print(text, \"is still a baby\")\n",
    "\n",
    "school_age_calculator(4, \"Ahmad\")"
   ]
  },
  {
   "cell_type": "code",
   "execution_count": null,
   "id": "23a1d226",
   "metadata": {},
   "outputs": [
    {
     "name": "stdout",
     "output_type": "stream",
     "text": [
      "Ahmad can join the school\n"
     ]
    }
   ],
   "source": [
    "def school_age_calculator(age, text):\n",
    "    if age==5:\n",
    "        print(text, \"can join the school\")\n",
    "    elif age>5:\n",
    "        print(text, \"should join the school immediately\")\n",
    "    else:\n",
    "        print(text, \"is still a baby\")\n",
    "\n",
    "school_age_calculator(5, \"Ahmad\")"
   ]
  },
  {
   "cell_type": "markdown",
   "id": "090694b1",
   "metadata": {},
   "source": [
    "### 1.9.2: Defining a function of future"
   ]
  },
  {
   "cell_type": "code",
   "execution_count": null,
   "id": "81586c02",
   "metadata": {},
   "outputs": [
    {
     "name": "stdout",
     "output_type": "stream",
     "text": [
      "30\n"
     ]
    }
   ],
   "source": [
    "def future_age(age):\n",
    "    new_age = age+20\n",
    "    return new_age\n",
    "\n",
    "future_predicted_age = future_age(10)\n",
    "print(future_predicted_age)"
   ]
  },
  {
   "cell_type": "code",
   "execution_count": null,
   "id": "03b03ace",
   "metadata": {},
   "outputs": [
    {
     "data": {
      "text/plain": [
       "('My Name is Ammar and my BMI is ', 25.41478848389795)"
      ]
     },
     "metadata": {},
     "output_type": "display_data"
    }
   ],
   "source": [
    "Weight = input(\"What is your weight?\")\n",
    "Height = input(\"What is your height?\")\n",
    "Weight = float(Weight)\n",
    "Height = float(Height)\n",
    "Height = Height*0.3048\n",
    "BMI = Weight/(Height)**2\n",
    "BMI\n",
    "\"My Name is Ammar and my BMI is \", BMI"
   ]
  },
  {
   "cell_type": "markdown",
   "id": "a45d944b",
   "metadata": {},
   "source": [
    "## Section 1.10: Loops\n",
    "> Two types of Loops in Python:\\\n",
    "> **For Loop:**\n",
    "   *Can execute set of statements one time*\\\n",
    "> __While Loop:__\n",
    "    *Can execute set of statements till the completion of condition*"
   ]
  },
  {
   "cell_type": "markdown",
   "id": "0f54aea5",
   "metadata": {},
   "source": [
    "### 1.10.1: For Loops:\n",
    "- A for loop is used for iterating over a sequence (that is either a list, a tuple, a dictionary, a set, or a string).\n",
    "- The for loop does not require an indexing variable to set beforehand."
   ]
  },
  {
   "cell_type": "code",
   "execution_count": null,
   "id": "0aac779b",
   "metadata": {},
   "outputs": [
    {
     "name": "stdout",
     "output_type": "stream",
     "text": [
      "apple\n",
      "banana\n",
      "cherry\n"
     ]
    }
   ],
   "source": [
    "fruits = [\"apple\", \"banana\", \"cherry\"]\n",
    "for x in fruits:\n",
    "  print(x)"
   ]
  },
  {
   "cell_type": "code",
   "execution_count": null,
   "id": "b20b8416",
   "metadata": {},
   "outputs": [
    {
     "name": "stdout",
     "output_type": "stream",
     "text": [
      "b\n",
      "a\n",
      "n\n",
      "a\n",
      "n\n",
      "a\n"
     ]
    }
   ],
   "source": [
    "for x in \"banana\":\n",
    "  print(x)"
   ]
  },
  {
   "cell_type": "markdown",
   "id": "90a39eb3",
   "metadata": {},
   "source": [
    "> #### The break Statement\n",
    "> - With the break statement we can stop the loop before it has looped all the items\n",
    "> - Exit the loop when x is \"banana\""
   ]
  },
  {
   "cell_type": "code",
   "execution_count": null,
   "id": "4acff7d6",
   "metadata": {},
   "outputs": [
    {
     "name": "stdout",
     "output_type": "stream",
     "text": [
      "apple\n",
      "banana\n"
     ]
    }
   ],
   "source": [
    "fruits = [\"apple\", \"banana\", \"cherry\"]\n",
    "for x in fruits:\n",
    "    print(x)\n",
    "    if x == \"banana\":\n",
    "        break"
   ]
  },
  {
   "cell_type": "code",
   "execution_count": null,
   "id": "f5c89a51",
   "metadata": {},
   "outputs": [
    {
     "name": "stdout",
     "output_type": "stream",
     "text": [
      "apple\n"
     ]
    }
   ],
   "source": [
    "fruits = [\"apple\", \"banana\", \"cherry\"]\n",
    "for x in fruits:\n",
    "    if x == \"banana\":\n",
    "        break\n",
    "    print(x)"
   ]
  },
  {
   "cell_type": "code",
   "execution_count": null,
   "id": "10ce76d5",
   "metadata": {},
   "outputs": [
    {
     "name": "stdout",
     "output_type": "stream",
     "text": [
      "Mon\n",
      "Tue\n",
      "Wed\n",
      "Thu\n"
     ]
    }
   ],
   "source": [
    "days = [\"Mon\", \"Tue\", \"Wed\", \"Thu\", \"Fri\", \"Sat\", \"Sun\"]\n",
    "for d in days:\n",
    "    if (d == \"Fri\"): break\n",
    "    print(d)"
   ]
  },
  {
   "cell_type": "markdown",
   "id": "cdb0c859",
   "metadata": {},
   "source": [
    "> #### The continue Statement\n",
    "> With the continue statement we can stop the current iteration of the loop, and continue with the next"
   ]
  },
  {
   "cell_type": "code",
   "execution_count": null,
   "id": "91545f18",
   "metadata": {},
   "outputs": [
    {
     "name": "stdout",
     "output_type": "stream",
     "text": [
      "apple\n",
      "cherry\n"
     ]
    }
   ],
   "source": [
    "fruits = [\"apple\", \"banana\", \"cherry\"]\n",
    "for x in fruits:\n",
    "  if x == \"banana\":\n",
    "    continue\n",
    "  print(x)"
   ]
  },
  {
   "cell_type": "code",
   "execution_count": null,
   "id": "253404dd",
   "metadata": {},
   "outputs": [
    {
     "name": "stdout",
     "output_type": "stream",
     "text": [
      "pineapple\n",
      "watermelon\n"
     ]
    }
   ],
   "source": [
    "a = [\"pineapple\", \"cherry\", \"watermelon\"]\n",
    "for y in a:\n",
    "    if y == \"cherry\":\n",
    "        continue\n",
    "    print(y)"
   ]
  },
  {
   "cell_type": "code",
   "execution_count": null,
   "id": "14f79166",
   "metadata": {},
   "outputs": [
    {
     "name": "stdout",
     "output_type": "stream",
     "text": [
      "Mon\n",
      "Tue\n",
      "Wed\n",
      "Thu\n",
      "Sat\n",
      "Sun\n"
     ]
    }
   ],
   "source": [
    "days = [\"Mon\", \"Tue\", \"Wed\", \"Thu\", \"Fri\", \"Sat\", \"Sun\"]\n",
    "for d in days:\n",
    "    if (d == \"Fri\"): continue\n",
    "    print(d)"
   ]
  },
  {
   "cell_type": "markdown",
   "id": "7405afa4",
   "metadata": {},
   "source": [
    "> #### The range Function\n",
    "> - To loop through a set of code a specified number of times, we can use the range() function\n",
    "> - The range() function returns a sequence of numbers, starting from 0 by default, and increments by 1 (by default), and ends at a specified number."
   ]
  },
  {
   "cell_type": "code",
   "execution_count": null,
   "id": "4acaaee1",
   "metadata": {},
   "outputs": [
    {
     "name": "stdout",
     "output_type": "stream",
     "text": [
      "0\n",
      "1\n",
      "2\n",
      "3\n",
      "4\n",
      "5\n",
      "6\n",
      "7\n"
     ]
    }
   ],
   "source": [
    "for x in range(8):\n",
    "    print(x)"
   ]
  },
  {
   "cell_type": "code",
   "execution_count": null,
   "id": "f2970d2d",
   "metadata": {},
   "outputs": [
    {
     "name": "stdout",
     "output_type": "stream",
     "text": [
      "2\n",
      "3\n",
      "4\n",
      "5\n",
      "6\n",
      "7\n"
     ]
    }
   ],
   "source": [
    "for x in range(2,8):\n",
    "    print(x)"
   ]
  },
  {
   "cell_type": "markdown",
   "id": "57e876c7",
   "metadata": {},
   "source": [
    "> Specify range in for loop with specified increment"
   ]
  },
  {
   "cell_type": "code",
   "execution_count": null,
   "id": "de8489e4",
   "metadata": {},
   "outputs": [
    {
     "name": "stdout",
     "output_type": "stream",
     "text": [
      "1\n",
      "4\n",
      "7\n",
      "10\n",
      "13\n"
     ]
    }
   ],
   "source": [
    "for x in range(1,15,3):\n",
    "    print(x)"
   ]
  },
  {
   "cell_type": "markdown",
   "id": "0504c3f3",
   "metadata": {},
   "source": [
    "> #### Else in For Loop\n",
    "> The else keyword in a for loop specifies a block of code to be executed when the loop is finished"
   ]
  },
  {
   "cell_type": "code",
   "execution_count": null,
   "id": "8fb27184",
   "metadata": {},
   "outputs": [
    {
     "name": "stdout",
     "output_type": "stream",
     "text": [
      "0\n",
      "1\n",
      "2\n",
      "3\n",
      "4\n",
      "Finally fininshed!\n"
     ]
    }
   ],
   "source": [
    "for x in range(5):\n",
    "    print(x)\n",
    "else:\n",
    "    print(\"Finally fininshed!\")"
   ]
  },
  {
   "cell_type": "code",
   "execution_count": null,
   "id": "1e53363a",
   "metadata": {
    "scrolled": false
   },
   "outputs": [
    {
     "name": "stdout",
     "output_type": "stream",
     "text": [
      "0\n",
      "1\n",
      "2\n"
     ]
    }
   ],
   "source": [
    "for x in range(6):\n",
    "    if x == 3:\n",
    "        break\n",
    "    print(x)\n",
    "else:\n",
    "    print(\"Finished for today\")"
   ]
  },
  {
   "cell_type": "code",
   "execution_count": null,
   "id": "98c09eae",
   "metadata": {
    "scrolled": true
   },
   "outputs": [
    {
     "name": "stdout",
     "output_type": "stream",
     "text": [
      "0\n",
      "1\n",
      "2\n",
      "3\n",
      "4\n",
      "5\n",
      "Finished for today\n"
     ]
    }
   ],
   "source": [
    "for x in range(6):\n",
    "    if x == 7:\n",
    "        break\n",
    "    print(x)\n",
    "else:\n",
    "    print(\"Finished for today\")"
   ]
  },
  {
   "cell_type": "markdown",
   "id": "d1bfafc9",
   "metadata": {},
   "source": [
    "> #### Nested Loops\n",
    "> - A nested loop is a loop inside a loop.\n",
    "> - The \"inner loop\" will be executed one time for each iteration of the \"outer loop\""
   ]
  },
  {
   "cell_type": "code",
   "execution_count": null,
   "id": "ef484bb4",
   "metadata": {},
   "outputs": [
    {
     "name": "stdout",
     "output_type": "stream",
     "text": [
      "red apple\n",
      "red banana\n",
      "red cherry\n",
      "big apple\n",
      "big banana\n",
      "big cherry\n",
      "tasty apple\n",
      "tasty banana\n",
      "tasty cherry\n"
     ]
    }
   ],
   "source": [
    "adj = [\"red\", \"big\", \"tasty\"]\n",
    "fruits = [\"apple\", \"banana\", \"cherry\"]\n",
    "\n",
    "for x in adj:\n",
    "  for y in fruits:\n",
    "    print(x, y)"
   ]
  },
  {
   "cell_type": "markdown",
   "id": "64569f66",
   "metadata": {},
   "source": [
    "### 1.10.2: While Loops\n",
    "- while loop we can execute a set of statements as long as a condition is true\n",
    "- The while loop requires relevant variables to be ready, in this example we need to define an indexing variable, i, which we set to 1.\n",
    "- Note: remember to increment i, or else the loop will continue forever."
   ]
  },
  {
   "cell_type": "code",
   "execution_count": null,
   "id": "2422cc10",
   "metadata": {},
   "outputs": [
    {
     "name": "stdout",
     "output_type": "stream",
     "text": [
      "1\n",
      "2\n",
      "3\n",
      "4\n",
      "5\n"
     ]
    }
   ],
   "source": [
    "i = 1\n",
    "while i < 6:\n",
    "    print(i)\n",
    "    i += 1"
   ]
  },
  {
   "cell_type": "markdown",
   "id": "2f8bdad0",
   "metadata": {},
   "source": [
    "> #### The break Statement\n",
    "> With the break statement we can stop the loop even if the while condition is true"
   ]
  },
  {
   "cell_type": "code",
   "execution_count": null,
   "id": "9525d392",
   "metadata": {},
   "outputs": [
    {
     "name": "stdout",
     "output_type": "stream",
     "text": [
      "1\n",
      "2\n",
      "3\n"
     ]
    }
   ],
   "source": [
    "i = 1\n",
    "while i < 6:\n",
    "    print(i)\n",
    "    if i == 3:\n",
    "        break\n",
    "    i += 1"
   ]
  },
  {
   "cell_type": "code",
   "execution_count": null,
   "id": "651c8c0b",
   "metadata": {},
   "outputs": [
    {
     "name": "stdout",
     "output_type": "stream",
     "text": [
      "1\n",
      "2\n"
     ]
    }
   ],
   "source": [
    "i = 1\n",
    "while i < 6:\n",
    "    if i == 3:\n",
    "        break\n",
    "    print(i)\n",
    "    i += 1"
   ]
  },
  {
   "cell_type": "markdown",
   "id": "dbcd60fb",
   "metadata": {},
   "source": [
    "> #### The continue Statement\n",
    "With the continue statement we can stop the current iteration, and continue with the next"
   ]
  },
  {
   "cell_type": "code",
   "execution_count": null,
   "id": "a011220c",
   "metadata": {},
   "outputs": [
    {
     "name": "stdout",
     "output_type": "stream",
     "text": [
      "1\n",
      "2\n",
      "4\n",
      "5\n",
      "6\n"
     ]
    }
   ],
   "source": [
    "i = 0\n",
    "while i < 6:\n",
    "    i += 1\n",
    "    if i == 3:\n",
    "        continue\n",
    "    print(i)"
   ]
  },
  {
   "cell_type": "markdown",
   "id": "5d7fe7ac",
   "metadata": {},
   "source": [
    "> #### The else Statement\n",
    "With the else statement we can run a block of code once when the condition no longer is true"
   ]
  },
  {
   "cell_type": "code",
   "execution_count": null,
   "id": "799d4bf5",
   "metadata": {},
   "outputs": [
    {
     "name": "stdout",
     "output_type": "stream",
     "text": [
      "1\n",
      "2\n",
      "3\n",
      "4\n",
      "5\n",
      "i is no longer less than 6\n"
     ]
    }
   ],
   "source": [
    "i = 1\n",
    "while i < 6:\n",
    "    print(i)\n",
    "    i += 1\n",
    "else:\n",
    "    print(\"i is no longer less than 6\")"
   ]
  },
  {
   "cell_type": "markdown",
   "id": "ade9c8ef",
   "metadata": {},
   "source": [
    "## Section 1.11: Import Libraries"
   ]
  },
  {
   "cell_type": "code",
   "execution_count": null,
   "id": "daffaaed",
   "metadata": {},
   "outputs": [
    {
     "name": "stdout",
     "output_type": "stream",
     "text": [
      "The value of pi is 3.141592653589793\n"
     ]
    }
   ],
   "source": [
    "import math\n",
    "print(\"The value of pi is\" , math.pi)"
   ]
  },
  {
   "cell_type": "code",
   "execution_count": null,
   "id": "e62a5403",
   "metadata": {},
   "outputs": [
    {
     "name": "stdout",
     "output_type": "stream",
     "text": [
      "700\n",
      "700.0\n"
     ]
    }
   ],
   "source": [
    "import statistics\n",
    "x = [200, 400, 600, 800, 1000, 1200]\n",
    "print(statistics.mean(x))\n",
    "print(statistics.median(x))"
   ]
  },
  {
   "cell_type": "markdown",
   "id": "03e21e3c",
   "metadata": {},
   "source": [
    "## Section 1.12: Indexing"
   ]
  },
  {
   "cell_type": "code",
   "execution_count": null,
   "id": "f094313d",
   "metadata": {},
   "outputs": [],
   "source": [
    "a = \"Hello World\""
   ]
  },
  {
   "cell_type": "code",
   "execution_count": null,
   "id": "9f3277ae",
   "metadata": {},
   "outputs": [
    {
     "data": {
      "text/plain": [
       "'H'"
      ]
     },
     "metadata": {},
     "output_type": "display_data"
    }
   ],
   "source": [
    "a[0]"
   ]
  },
  {
   "cell_type": "code",
   "execution_count": null,
   "id": "e76589f6",
   "metadata": {},
   "outputs": [
    {
     "data": {
      "text/plain": [
       "'l'"
      ]
     },
     "metadata": {},
     "output_type": "display_data"
    }
   ],
   "source": [
    "a[2]"
   ]
  },
  {
   "cell_type": "code",
   "execution_count": null,
   "id": "fe44693a",
   "metadata": {},
   "outputs": [
    {
     "data": {
      "text/plain": [
       "11"
      ]
     },
     "metadata": {},
     "output_type": "display_data"
    }
   ],
   "source": [
    "# Length of indices\n",
    "len(a)"
   ]
  },
  {
   "cell_type": "code",
   "execution_count": null,
   "id": "3ad0cec5",
   "metadata": {},
   "outputs": [
    {
     "data": {
      "text/plain": [
       "'Hello'"
      ]
     },
     "metadata": {},
     "output_type": "display_data"
    }
   ],
   "source": [
    "a[0:5]"
   ]
  },
  {
   "cell_type": "code",
   "execution_count": null,
   "id": "c5178218",
   "metadata": {},
   "outputs": [
    {
     "data": {
      "text/plain": [
       "'Hello W'"
      ]
     },
     "metadata": {},
     "output_type": "display_data"
    }
   ],
   "source": [
    "# Last index is exclusive\n",
    "a[0:7]"
   ]
  },
  {
   "cell_type": "code",
   "execution_count": null,
   "id": "cb12d3cb",
   "metadata": {},
   "outputs": [
    {
     "data": {
      "text/plain": [
       "'l'"
      ]
     },
     "metadata": {},
     "output_type": "display_data"
    }
   ],
   "source": [
    "a[-2]"
   ]
  },
  {
   "cell_type": "markdown",
   "id": "8fc12653",
   "metadata": {},
   "source": [
    "#### 1.12.1: String Method"
   ]
  },
  {
   "cell_type": "code",
   "execution_count": null,
   "id": "7c20ad06",
   "metadata": {},
   "outputs": [
    {
     "data": {
      "text/plain": [
       "'briyani'"
      ]
     },
     "metadata": {},
     "output_type": "display_data"
    }
   ],
   "source": [
    "food = \"briyani\"\n",
    "food"
   ]
  },
  {
   "cell_type": "code",
   "execution_count": null,
   "id": "d35004d0",
   "metadata": {},
   "outputs": [
    {
     "data": {
      "text/plain": [
       "7"
      ]
     },
     "metadata": {},
     "output_type": "display_data"
    }
   ],
   "source": [
    "len(food)"
   ]
  },
  {
   "cell_type": "code",
   "execution_count": null,
   "id": "b50bc897",
   "metadata": {},
   "outputs": [
    {
     "data": {
      "text/plain": [
       "'BRIYANI'"
      ]
     },
     "metadata": {},
     "output_type": "display_data"
    }
   ],
   "source": [
    "# uppercase letters\n",
    "food.upper()"
   ]
  },
  {
   "cell_type": "code",
   "execution_count": null,
   "id": "a18dd0f5",
   "metadata": {},
   "outputs": [
    {
     "data": {
      "text/plain": [
       "'Briyani'"
      ]
     },
     "metadata": {},
     "output_type": "display_data"
    }
   ],
   "source": [
    "# capatilize the first element\n",
    "food.capitalize()"
   ]
  },
  {
   "cell_type": "code",
   "execution_count": null,
   "id": "500cc0fb",
   "metadata": {},
   "outputs": [
    {
     "data": {
      "text/plain": [
       "'briyani'"
      ]
     },
     "metadata": {},
     "output_type": "display_data"
    }
   ],
   "source": [
    "# lowercase letters\n",
    "food.lower()"
   ]
  },
  {
   "cell_type": "code",
   "execution_count": null,
   "id": "e1c2078b",
   "metadata": {},
   "outputs": [
    {
     "data": {
      "text/plain": [
       "'Shriyani'"
      ]
     },
     "metadata": {},
     "output_type": "display_data"
    }
   ],
   "source": [
    "#replace\n",
    "food.replace(\"b\" , \"Sh\")"
   ]
  },
  {
   "cell_type": "code",
   "execution_count": null,
   "id": "63a00056",
   "metadata": {},
   "outputs": [
    {
     "data": {
      "text/plain": [
       "'We are learning python with baba ammar'"
      ]
     },
     "metadata": {},
     "output_type": "display_data"
    }
   ],
   "source": [
    "# counting a specific alphabet in a string\n",
    "name = \"We are learning python with baba ammar\"\n",
    "name"
   ]
  },
  {
   "cell_type": "code",
   "execution_count": null,
   "id": "42473397",
   "metadata": {},
   "outputs": [
    {
     "data": {
      "text/plain": [
       "6"
      ]
     },
     "metadata": {},
     "output_type": "display_data"
    }
   ],
   "source": [
    "name.count(\"a\")"
   ]
  },
  {
   "cell_type": "code",
   "execution_count": null,
   "id": "434d20ac",
   "metadata": {},
   "outputs": [
    {
     "data": {
      "text/plain": [
       "3"
      ]
     },
     "metadata": {},
     "output_type": "display_data"
    }
   ],
   "source": [
    "name.count(\"e\")"
   ]
  },
  {
   "cell_type": "markdown",
   "id": "fcc5ba25",
   "metadata": {},
   "source": [
    "> find an index number in string"
   ]
  },
  {
   "cell_type": "code",
   "execution_count": null,
   "id": "b4f24e4a",
   "metadata": {},
   "outputs": [
    {
     "data": {
      "text/plain": [
       "'We are learning python with baba ammar'"
      ]
     },
     "metadata": {},
     "output_type": "display_data"
    }
   ],
   "source": [
    "name = \"We are learning python with baba ammar\"\n",
    "name"
   ]
  },
  {
   "cell_type": "code",
   "execution_count": null,
   "id": "91487742",
   "metadata": {},
   "outputs": [
    {
     "data": {
      "text/plain": [
       "3"
      ]
     },
     "metadata": {},
     "output_type": "display_data"
    }
   ],
   "source": [
    "name.find(\"a\")"
   ]
  },
  {
   "cell_type": "code",
   "execution_count": null,
   "id": "6d169cfa",
   "metadata": {},
   "outputs": [
    {
     "data": {
      "text/plain": [
       "28"
      ]
     },
     "metadata": {},
     "output_type": "display_data"
    }
   ],
   "source": [
    "name.find(\"baba\")"
   ]
  },
  {
   "cell_type": "code",
   "execution_count": null,
   "id": "a2349f58",
   "metadata": {},
   "outputs": [
    {
     "data": {
      "text/plain": [
       "'I love samosa, pakora, briyani, and karahi'"
      ]
     },
     "metadata": {},
     "output_type": "display_data"
    }
   ],
   "source": [
    "# how to split a string\n",
    "food = \"I love samosa, pakora, briyani, and karahi\"\n",
    "food"
   ]
  },
  {
   "cell_type": "code",
   "execution_count": null,
   "id": "e217ac86",
   "metadata": {},
   "outputs": [
    {
     "data": {
      "text/plain": [
       "['I love samosa', ' pakora', ' briyani', ' and karahi']"
      ]
     },
     "metadata": {},
     "output_type": "display_data"
    }
   ],
   "source": [
    "food.split(\",\")"
   ]
  },
  {
   "cell_type": "markdown",
   "id": "894afd33",
   "metadata": {},
   "source": [
    "## Section 1.13: Basic Data Structure in Python\n",
    "1. Tuple\n",
    "2. List\n",
    "3. Dictionaries\n",
    "4. Set"
   ]
  },
  {
   "cell_type": "markdown",
   "id": "1d773d5d",
   "metadata": {},
   "source": [
    "### 1.13.1: Tuple\n",
    "- ordered collection of elements\n",
    "- enclosed in () round braces/parantheis\n",
    "- Different kind of elements can be stored\n",
    "- Once elements are stored, you can change them (unmutatable)"
   ]
  },
  {
   "cell_type": "code",
   "execution_count": null,
   "id": "9f64c039",
   "metadata": {},
   "outputs": [
    {
     "data": {
      "text/plain": [
       "(1, 'python', True, 2.5)"
      ]
     },
     "metadata": {},
     "output_type": "display_data"
    }
   ],
   "source": [
    "tup1 = (1, \"python\", True, 2.5)\n",
    "tup1"
   ]
  },
  {
   "cell_type": "code",
   "execution_count": null,
   "id": "1d091df8",
   "metadata": {},
   "outputs": [
    {
     "data": {
      "text/plain": [
       "tuple"
      ]
     },
     "metadata": {},
     "output_type": "display_data"
    }
   ],
   "source": [
    "# type of a tuple\n",
    "type(tup1)"
   ]
  },
  {
   "cell_type": "markdown",
   "id": "ca02b288",
   "metadata": {},
   "source": [
    "> Indexing in Tuple"
   ]
  },
  {
   "cell_type": "code",
   "execution_count": null,
   "id": "be4ed067",
   "metadata": {},
   "outputs": [
    {
     "data": {
      "text/plain": [
       "'python'"
      ]
     },
     "metadata": {},
     "output_type": "display_data"
    }
   ],
   "source": [
    "tup1[1]"
   ]
  },
  {
   "cell_type": "code",
   "execution_count": null,
   "id": "be079647",
   "metadata": {},
   "outputs": [
    {
     "data": {
      "text/plain": [
       "(1, 'python')"
      ]
     },
     "metadata": {},
     "output_type": "display_data"
    }
   ],
   "source": [
    "#last element is exclusive\n",
    "tup1[0:2]"
   ]
  },
  {
   "cell_type": "code",
   "execution_count": null,
   "id": "7a72d160",
   "metadata": {},
   "outputs": [
    {
     "data": {
      "text/plain": [
       "4"
      ]
     },
     "metadata": {},
     "output_type": "display_data"
    }
   ],
   "source": [
    "#count of elements in tup1\n",
    "len(tup1)"
   ]
  },
  {
   "cell_type": "code",
   "execution_count": null,
   "id": "d545d3d4",
   "metadata": {},
   "outputs": [
    {
     "data": {
      "text/plain": [
       "(2, 'Ammar', 2.6, False)"
      ]
     },
     "metadata": {},
     "output_type": "display_data"
    }
   ],
   "source": [
    "tup2 = (2, \"Ammar\", 2.6, False)\n",
    "tup2"
   ]
  },
  {
   "cell_type": "code",
   "execution_count": null,
   "id": "ff27c3c6",
   "metadata": {},
   "outputs": [
    {
     "data": {
      "text/plain": [
       "(1, 'python', True, 2.5, 2, 'Ammar', 2.6, False)"
      ]
     },
     "metadata": {},
     "output_type": "display_data"
    }
   ],
   "source": [
    "#contactinate (to add two or more than two tuples)\n",
    "tup1 + tup2"
   ]
  },
  {
   "cell_type": "code",
   "execution_count": null,
   "id": "4df0c31d",
   "metadata": {},
   "outputs": [
    {
     "data": {
      "text/plain": [
       "(1, 'python', True, 2.5, 1, 'python', True, 2.5, 2, 'Ammar', 2.6, False)"
      ]
     },
     "metadata": {},
     "output_type": "display_data"
    }
   ],
   "source": [
    "tup1*2 + tup2"
   ]
  },
  {
   "cell_type": "code",
   "execution_count": null,
   "id": "9966c486",
   "metadata": {},
   "outputs": [
    {
     "data": {
      "text/plain": [
       "(1, 6, 3, 6, 8, 9, 5, 8)"
      ]
     },
     "metadata": {},
     "output_type": "display_data"
    }
   ],
   "source": [
    "tup3= (1,6,3,6,8,9,5,8)\n",
    "tup3"
   ]
  },
  {
   "cell_type": "code",
   "execution_count": null,
   "id": "fdc7ea4e",
   "metadata": {},
   "outputs": [
    {
     "data": {
      "text/plain": [
       "1"
      ]
     },
     "metadata": {},
     "output_type": "display_data"
    }
   ],
   "source": [
    "#minimun value in tuple\n",
    "min(tup3)"
   ]
  },
  {
   "cell_type": "code",
   "execution_count": null,
   "id": "78b57455",
   "metadata": {},
   "outputs": [
    {
     "data": {
      "text/plain": [
       "9"
      ]
     },
     "metadata": {},
     "output_type": "display_data"
    }
   ],
   "source": [
    "#maximum value in tuple\n",
    "max(tup3)"
   ]
  },
  {
   "cell_type": "code",
   "execution_count": null,
   "id": "acfc2703",
   "metadata": {},
   "outputs": [
    {
     "data": {
      "text/plain": [
       "(1, 6, 3, 6, 8, 9, 5, 8, 1, 6, 3, 6, 8, 9, 5, 8)"
      ]
     },
     "metadata": {},
     "output_type": "display_data"
    }
   ],
   "source": [
    "tup3*2"
   ]
  },
  {
   "cell_type": "markdown",
   "id": "68c3b01d",
   "metadata": {},
   "source": [
    "### 1.13.2: List\n",
    "- ordered collection of elements\n",
    "- enclosed [] in square bracket\n",
    "- Muteable"
   ]
  },
  {
   "cell_type": "code",
   "execution_count": null,
   "id": "d224988e",
   "metadata": {},
   "outputs": [
    {
     "data": {
      "text/plain": [
       "[1, 'python', True, 2.5]"
      ]
     },
     "metadata": {},
     "output_type": "display_data"
    }
   ],
   "source": [
    "list1 = [1, \"python\", True, 2.5]\n",
    "list1"
   ]
  },
  {
   "cell_type": "code",
   "execution_count": null,
   "id": "71854540",
   "metadata": {},
   "outputs": [
    {
     "data": {
      "text/plain": [
       "list"
      ]
     },
     "metadata": {},
     "output_type": "display_data"
    }
   ],
   "source": [
    "type(list1)"
   ]
  },
  {
   "cell_type": "code",
   "execution_count": null,
   "id": "336825d8",
   "metadata": {},
   "outputs": [
    {
     "data": {
      "text/plain": [
       "4"
      ]
     },
     "metadata": {},
     "output_type": "display_data"
    }
   ],
   "source": [
    "len(list1)"
   ]
  },
  {
   "cell_type": "code",
   "execution_count": null,
   "id": "cfc8870d",
   "metadata": {},
   "outputs": [
    {
     "data": {
      "text/plain": [
       "'python'"
      ]
     },
     "metadata": {},
     "output_type": "display_data"
    }
   ],
   "source": [
    "list1[1]"
   ]
  },
  {
   "cell_type": "code",
   "execution_count": null,
   "id": "6eade4d6",
   "metadata": {},
   "outputs": [
    {
     "data": {
      "text/plain": [
       "[10, 13, 'Ammar', 466, 34.5, False]"
      ]
     },
     "metadata": {},
     "output_type": "display_data"
    }
   ],
   "source": [
    "list2 = [10, 13, \"Ammar\", 466, 34.5, False]\n",
    "list2"
   ]
  },
  {
   "cell_type": "code",
   "execution_count": null,
   "id": "0e71f067",
   "metadata": {},
   "outputs": [
    {
     "data": {
      "text/plain": [
       "[1, 'python', True, 2.5, 10, 13, 'Ammar', 466, 34.5, False]"
      ]
     },
     "metadata": {},
     "output_type": "display_data"
    }
   ],
   "source": [
    "list1 + list2"
   ]
  },
  {
   "cell_type": "code",
   "execution_count": null,
   "id": "8503b372",
   "metadata": {},
   "outputs": [
    {
     "data": {
      "text/plain": [
       "[1, 'python', True, 2.5, 1, 'python', True, 2.5]"
      ]
     },
     "metadata": {},
     "output_type": "display_data"
    }
   ],
   "source": [
    "list1*2"
   ]
  },
  {
   "cell_type": "code",
   "execution_count": null,
   "id": "c4c0760c",
   "metadata": {},
   "outputs": [
    {
     "data": {
      "text/plain": [
       "[1, 'python', True, 2.5]"
      ]
     },
     "metadata": {},
     "output_type": "display_data"
    }
   ],
   "source": [
    "list1"
   ]
  },
  {
   "cell_type": "code",
   "execution_count": null,
   "id": "efbb9a34",
   "metadata": {},
   "outputs": [
    {
     "data": {
      "text/plain": [
       "[2.5, True, 'python', 1]"
      ]
     },
     "metadata": {},
     "output_type": "display_data"
    }
   ],
   "source": [
    "list1.reverse()\n",
    "list1"
   ]
  },
  {
   "cell_type": "code",
   "execution_count": null,
   "id": "2518805b",
   "metadata": {},
   "outputs": [
    {
     "data": {
      "text/plain": [
       "[2.5, True, 'python', 1, 'Hi World']"
      ]
     },
     "metadata": {},
     "output_type": "display_data"
    }
   ],
   "source": [
    "list1.append(\"Hi World\")\n",
    "list1"
   ]
  },
  {
   "cell_type": "code",
   "execution_count": null,
   "id": "e73b94ef",
   "metadata": {},
   "outputs": [
    {
     "data": {
      "text/plain": [
       "[10, 13, 'Ammar', 466, 34.5, False, 466, 10, 13, 'aa', 'bb', 'aa']"
      ]
     },
     "metadata": {},
     "output_type": "display_data"
    }
   ],
   "source": [
    "list3 = [10, 13, \"Ammar\", 466, 34.5, False, 466, 10, 13, \"aa\", \"bb\", \"aa\"]\n",
    "list3"
   ]
  },
  {
   "cell_type": "code",
   "execution_count": null,
   "id": "31ede930",
   "metadata": {},
   "outputs": [
    {
     "data": {
      "text/plain": [
       "2"
      ]
     },
     "metadata": {},
     "output_type": "display_data"
    }
   ],
   "source": [
    "list3.count(466)"
   ]
  },
  {
   "cell_type": "code",
   "execution_count": null,
   "id": "9309944a",
   "metadata": {},
   "outputs": [
    {
     "data": {
      "text/plain": [
       "[2, 6, 10]"
      ]
     },
     "metadata": {},
     "output_type": "display_data"
    }
   ],
   "source": [
    "list4 = [2,6,10]\n",
    "list4"
   ]
  },
  {
   "cell_type": "code",
   "execution_count": null,
   "id": "6f538b21",
   "metadata": {},
   "outputs": [
    {
     "data": {
      "text/plain": [
       "[0, 4, 8]"
      ]
     },
     "metadata": {},
     "output_type": "display_data"
    }
   ],
   "source": [
    "list5 = [0,4,8]\n",
    "list5"
   ]
  },
  {
   "cell_type": "code",
   "execution_count": null,
   "id": "85d577f6",
   "metadata": {},
   "outputs": [
    {
     "data": {
      "text/plain": [
       "[2, 6, 10, 0, 4, 8]"
      ]
     },
     "metadata": {},
     "output_type": "display_data"
    }
   ],
   "source": [
    "list4.extend(list5)\n",
    "list4"
   ]
  },
  {
   "cell_type": "code",
   "execution_count": null,
   "id": "04690e8b",
   "metadata": {},
   "outputs": [
    {
     "data": {
      "text/plain": [
       "['a', 'e', 'i', 'u']"
      ]
     },
     "metadata": {},
     "output_type": "display_data"
    }
   ],
   "source": [
    "list6 = [\"a\",\"e\",\"i\",\"u\"]\n",
    "list6"
   ]
  },
  {
   "cell_type": "code",
   "execution_count": null,
   "id": "610f1c2b",
   "metadata": {},
   "outputs": [
    {
     "data": {
      "text/plain": [
       "['a', 'e', 'i', 'o', 'u']"
      ]
     },
     "metadata": {},
     "output_type": "display_data"
    }
   ],
   "source": [
    "list6.insert(3, \"o\")\n",
    "list6"
   ]
  },
  {
   "cell_type": "markdown",
   "id": "915c8951",
   "metadata": {},
   "source": [
    "### 1.13.3: Dictionaries\n",
    "- unordered collection of elements\n",
    "- Key and value\n",
    "- curly braces or brackets {}\n",
    "- Mutatable"
   ]
  },
  {
   "cell_type": "code",
   "execution_count": null,
   "id": "f925d89b",
   "metadata": {},
   "outputs": [
    {
     "data": {
      "text/plain": [
       "{'Samosa': 30, 'Pakora': 20, 'Raita': 100, 'Salad': 40}"
      ]
     },
     "metadata": {},
     "output_type": "display_data"
    }
   ],
   "source": [
    "d1 = {\"Samosa\":30, \"Pakora\":20, \"Raita\":100, \"Salad\":40}\n",
    "d1"
   ]
  },
  {
   "cell_type": "code",
   "execution_count": null,
   "id": "abccfade",
   "metadata": {},
   "outputs": [
    {
     "data": {
      "text/plain": [
       "dict"
      ]
     },
     "metadata": {},
     "output_type": "display_data"
    }
   ],
   "source": [
    "type(d1)"
   ]
  },
  {
   "cell_type": "code",
   "execution_count": null,
   "id": "7c8ad284",
   "metadata": {},
   "outputs": [
    {
     "data": {
      "text/plain": [
       "dict_keys(['Samosa', 'Pakora', 'Raita', 'Salad'])"
      ]
     },
     "metadata": {},
     "output_type": "display_data"
    }
   ],
   "source": [
    "#extract data\n",
    "keys1 = d1.keys()\n",
    "keys1"
   ]
  },
  {
   "cell_type": "code",
   "execution_count": null,
   "id": "681566b8",
   "metadata": {},
   "outputs": [
    {
     "data": {
      "text/plain": [
       "dict_values([30, 20, 100, 40])"
      ]
     },
     "metadata": {},
     "output_type": "display_data"
    }
   ],
   "source": [
    "values1 = d1.values()\n",
    "values1"
   ]
  },
  {
   "cell_type": "code",
   "execution_count": null,
   "id": "20621e6a",
   "metadata": {},
   "outputs": [
    {
     "data": {
      "text/plain": [
       "{'Samosa': 30, 'Pakora': 20, 'Raita': 100, 'Salad': 40, 'Tikki': 10}"
      ]
     },
     "metadata": {},
     "output_type": "display_data"
    }
   ],
   "source": [
    "#adding new value\n",
    "d1[\"Tikki\"] = 10\n",
    "d1"
   ]
  },
  {
   "cell_type": "code",
   "execution_count": null,
   "id": "9128b048",
   "metadata": {},
   "outputs": [
    {
     "data": {
      "text/plain": [
       "{'Samosa': 30, 'Pakora': 20, 'Raita': 100, 'Salad': 40, 'Tikki': 15}"
      ]
     },
     "metadata": {},
     "output_type": "display_data"
    }
   ],
   "source": [
    "#update the values\n",
    "d1[\"Tikki\"] = 15\n",
    "d1"
   ]
  },
  {
   "cell_type": "code",
   "execution_count": null,
   "id": "af5c92c6",
   "metadata": {},
   "outputs": [
    {
     "data": {
      "text/plain": [
       "{'Date': 50, 'Choclates': 200, 'Bread': 120}"
      ]
     },
     "metadata": {},
     "output_type": "display_data"
    }
   ],
   "source": [
    "d2 = {\"Date\":50, \"Choclates\": 200, \"Bread\": 120}\n",
    "d2"
   ]
  },
  {
   "cell_type": "code",
   "execution_count": null,
   "id": "69e8d43d",
   "metadata": {},
   "outputs": [
    {
     "data": {
      "text/plain": [
       "{'Samosa': 30,\n",
       " 'Pakora': 20,\n",
       " 'Raita': 100,\n",
       " 'Salad': 40,\n",
       " 'Tikki': 15,\n",
       " 'Date': 50,\n",
       " 'Choclates': 200,\n",
       " 'Bread': 120}"
      ]
     },
     "metadata": {},
     "output_type": "display_data"
    }
   ],
   "source": [
    "#concatinate\n",
    "d1.update(d2)\n",
    "d1"
   ]
  },
  {
   "cell_type": "markdown",
   "id": "0be54e99",
   "metadata": {},
   "source": [
    "### 1.13.4: Set\n",
    "- Unordered and unindexed\n",
    "- curly braces are used {}\n",
    "- No Duplicate\n",
    "- No boolean operator"
   ]
  },
  {
   "cell_type": "code",
   "execution_count": null,
   "id": "01cfdbcf",
   "metadata": {},
   "outputs": [
    {
     "data": {
      "text/plain": [
       "{1, 2.2, 3.5, 'Amamr', 'Multan', 'Python'}"
      ]
     },
     "metadata": {},
     "output_type": "display_data"
    }
   ],
   "source": [
    "s1= {1, 2.2, 3.5, 1, \"Amamr\", \"Python\", \"Multan\", True}\n",
    "s1"
   ]
  },
  {
   "cell_type": "code",
   "execution_count": null,
   "id": "1e26d74f",
   "metadata": {},
   "outputs": [
    {
     "data": {
      "text/plain": [
       "set"
      ]
     },
     "metadata": {},
     "output_type": "display_data"
    }
   ],
   "source": [
    "type(s1)"
   ]
  },
  {
   "cell_type": "code",
   "execution_count": null,
   "id": "8705451f",
   "metadata": {},
   "outputs": [
    {
     "data": {
      "text/plain": [
       "{1, 2.2, 3.5, 'Amamr', 'Ammar', 'Multan', 'Python'}"
      ]
     },
     "metadata": {},
     "output_type": "display_data"
    }
   ],
   "source": [
    "s1.add(\"Ammar\")\n",
    "s1"
   ]
  },
  {
   "cell_type": "code",
   "execution_count": null,
   "id": "d0437d04",
   "metadata": {},
   "outputs": [
    {
     "data": {
      "text/plain": [
       "{1, 2.2, 3.5, 'Amamr', 'Ammar', 'Multan', 'Python'}"
      ]
     },
     "metadata": {},
     "output_type": "display_data"
    }
   ],
   "source": [
    "s1.add(\"Ammar\")\n",
    "s1"
   ]
  },
  {
   "cell_type": "code",
   "execution_count": null,
   "id": "efb5e591",
   "metadata": {},
   "outputs": [
    {
     "data": {
      "text/plain": [
       "set()"
      ]
     },
     "metadata": {},
     "output_type": "display_data"
    }
   ],
   "source": [
    "s1.clear()\n",
    "s1"
   ]
  },
  {
   "cell_type": "markdown",
   "metadata": {},
   "source": [
    "-------------------\n",
    "-------------------"
   ]
  }
 ],
 "metadata": {
  "language_info": {
   "name": "python"
  },
  "orig_nbformat": 4
 },
 "nbformat": 4,
 "nbformat_minor": 2
}
